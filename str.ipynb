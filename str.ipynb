{
 "cells": [
  {
   "cell_type": "markdown",
   "metadata": {},
   "source": [
    "yorum"
   ]
  },
  {
   "cell_type": "code",
   "execution_count": 54,
   "metadata": {},
   "outputs": [
    {
     "name": "stdout",
     "output_type": "stream",
     "text": [
      "   evID  odaSayisi  evMetreKare     semt\n",
      "0     2        3.0        130.0  kadikoy\n",
      "1     4        5.0        140.0  kadikoy\n",
      "2     6        6.0          NaN      NaN\n",
      "3     8        4.0        150.0   levent\n",
      "4    10        2.0          NaN   levent\n",
      "5    12        3.0        125.0   pendik\n",
      "6    14        NaN          NaN  maltepe\n",
      "7    16        6.0        135.0  maltepe\n",
      "8    17        NaN          NaN      NaN\n"
     ]
    }
   ],
   "source": [
    "import pandas as pd\n",
    "import numpy as np\n",
    "\n",
    "# Örnek Dataframe'in yaratılması\n",
    "ev = pd.DataFrame({\"evID\":[2,4,6,8,10,12,14,16,17],\n",
    "                   \"odaSayisi\":[3,5,6,4,2,3,None,6,None],\n",
    "                   \"evMetreKare\":[130,140,None,150,None,125,None,135,None],\n",
    "                   \"semt\":[\"kadikoy\",\"kadikoy\",np.nan,\"levent\",\"levent\",\"pendik\",\"maltepe\",\"maltepe\",np.nan]})\n",
    "print(ev)"
   ]
  },
  {
   "cell_type": "code",
   "execution_count": 55,
   "metadata": {},
   "outputs": [
    {
     "name": "stdout",
     "output_type": "stream",
     "text": [
      "evID           0\n",
      "odaSayisi      2\n",
      "evMetreKare    4\n",
      "semt           2\n",
      "dtype: int64\n"
     ]
    }
   ],
   "source": [
    "# eksik verinin kolon bazında saydırılması\n",
    "print(ev.isnull().sum())"
   ]
  },
  {
   "cell_type": "markdown",
   "metadata": {},
   "source": [
    "Satır Bazlı Silme (listwise): \n",
    "Bir veya daha fazla eksik değere sahip bir gözlem için o satıra ait tüm verileri kaldırır. Özellikle eksik veriler az sayıda gözlemle bulunuyorsa datadan çıkarmayı tercih edebiliriz. Bununla birlikte, satır silme işleminin kullanılması çoğu durumda dezavantajlıdır. Bunun nedeni satıra göre silme yöntemleri yanlı parametreler ve tahminler üretebilir."
   ]
  },
  {
   "cell_type": "code",
   "execution_count": 56,
   "metadata": {},
   "outputs": [
    {
     "name": "stdout",
     "output_type": "stream",
     "text": [
      "   evID  odaSayisi  evMetreKare     semt\n",
      "0     2        3.0        130.0  kadikoy\n",
      "1     4        5.0        140.0  kadikoy\n",
      "3     8        4.0        150.0   levent\n",
      "5    12        3.0        125.0   pendik\n",
      "7    16        6.0        135.0  maltepe\n"
     ]
    }
   ],
   "source": [
    "ev1 = ev.dropna() # Silme fonksiyonu\n",
    "print(ev1)"
   ]
  },
  {
   "cell_type": "markdown",
   "metadata": {},
   "source": [
    "Kolon Bazlı Silme:\n",
    "Aslında datada yer alan bir özelliği yani değişkeni silme işlemi. Bu genel olarak tercih edilen bir yöntem olmamakla birlikte eğer aynı değişken içerisinde eksik veri adedi \"\"2/3'den fazla\"\" ise bu değişken veri setinden çıkarabiliriz. Ev tablosunda yer alan “evMetreKare” değişkeni oldukça fazla kayıp veri olduğundan tamamen aşağıdaki şekilde çıkarabiliriz."
   ]
  },
  {
   "cell_type": "code",
   "execution_count": 57,
   "metadata": {},
   "outputs": [
    {
     "name": "stdout",
     "output_type": "stream",
     "text": [
      "   evID  odaSayisi     semt\n",
      "0     2        3.0  kadikoy\n",
      "1     4        5.0  kadikoy\n",
      "2     6        6.0      NaN\n",
      "3     8        4.0   levent\n",
      "4    10        2.0   levent\n",
      "5    12        3.0   pendik\n",
      "6    14        NaN  maltepe\n",
      "7    16        6.0  maltepe\n",
      "8    17        NaN      NaN\n"
     ]
    }
   ],
   "source": [
    "# kolonu veri setinden çıkarıyoruz\n",
    "ev2 = ev.drop(columns=\"evMetreKare\")\n",
    "print(ev2)"
   ]
  },
  {
   "cell_type": "markdown",
   "metadata": {},
   "source": [
    "Eşlerin (Pairwise) Silinmesi: Bu yöntemde sadece ihtiyaç duyulan değişkenler seçilir ve bu değişkenler içindeki eksik veriler silinerek analize devam edilir."
   ]
  },
  {
   "cell_type": "code",
   "execution_count": 58,
   "metadata": {},
   "outputs": [
    {
     "name": "stdout",
     "output_type": "stream",
     "text": [
      "   evID  odaSayisi  evMetreKare     semt  evFiyat\n",
      "0     2        3.0        130.0  kadikoy   100000\n",
      "1     4        5.0        140.0  kadikoy   125000\n",
      "2     6        6.0          NaN      NaN   133000\n",
      "3     8        4.0        150.0   levent   138000\n",
      "4    10        2.0          NaN   levent   121000\n",
      "5    12        3.0        125.0   pendik   105000\n",
      "6    14        NaN          NaN  maltepe   109000\n",
      "7    16        6.0        135.0  maltepe   108000\n",
      "8    17        NaN          NaN      NaN   101000\n"
     ]
    }
   ],
   "source": [
    "# Eşlerin silinmesi (Pairwise)\n",
    "# Yeni bir kolon ekliyoruz\n",
    "ev[\"evFiyat\"] =  [100000,125000,133000,138000,121000,105000,109000,108000,101000]\n",
    "print(ev)"
   ]
  },
  {
   "cell_type": "code",
   "execution_count": 59,
   "metadata": {},
   "outputs": [
    {
     "data": {
      "text/html": [
       "<div>\n",
       "<style scoped>\n",
       "    .dataframe tbody tr th:only-of-type {\n",
       "        vertical-align: middle;\n",
       "    }\n",
       "\n",
       "    .dataframe tbody tr th {\n",
       "        vertical-align: top;\n",
       "    }\n",
       "\n",
       "    .dataframe thead th {\n",
       "        text-align: right;\n",
       "    }\n",
       "</style>\n",
       "<table border=\"1\" class=\"dataframe\">\n",
       "  <thead>\n",
       "    <tr style=\"text-align: right;\">\n",
       "      <th></th>\n",
       "      <th>odaSayisi</th>\n",
       "      <th>evFiyat</th>\n",
       "    </tr>\n",
       "  </thead>\n",
       "  <tbody>\n",
       "    <tr>\n",
       "      <th>odaSayisi</th>\n",
       "      <td>1.000000</td>\n",
       "      <td>0.301159</td>\n",
       "    </tr>\n",
       "    <tr>\n",
       "      <th>evFiyat</th>\n",
       "      <td>0.301159</td>\n",
       "      <td>1.000000</td>\n",
       "    </tr>\n",
       "  </tbody>\n",
       "</table>\n",
       "</div>"
      ],
      "text/plain": [
       "           odaSayisi   evFiyat\n",
       "odaSayisi   1.000000  0.301159\n",
       "evFiyat     0.301159  1.000000"
      ]
     },
     "execution_count": 59,
     "metadata": {},
     "output_type": "execute_result"
    }
   ],
   "source": [
    "# Sadece iki değişken seçip aralarındaki korelasyonu inceleme\n",
    "ev[[\"odaSayisi\",\"evFiyat\"]].dropna().corr()"
   ]
  },
  {
   "cell_type": "code",
   "execution_count": 60,
   "metadata": {},
   "outputs": [
    {
     "data": {
      "text/html": [
       "<div>\n",
       "<style scoped>\n",
       "    .dataframe tbody tr th:only-of-type {\n",
       "        vertical-align: middle;\n",
       "    }\n",
       "\n",
       "    .dataframe tbody tr th {\n",
       "        vertical-align: top;\n",
       "    }\n",
       "\n",
       "    .dataframe thead th {\n",
       "        text-align: right;\n",
       "    }\n",
       "</style>\n",
       "<table border=\"1\" class=\"dataframe\">\n",
       "  <thead>\n",
       "    <tr style=\"text-align: right;\">\n",
       "      <th></th>\n",
       "      <th>evMetreKare</th>\n",
       "      <th>evFiyat</th>\n",
       "    </tr>\n",
       "  </thead>\n",
       "  <tbody>\n",
       "    <tr>\n",
       "      <th>evMetreKare</th>\n",
       "      <td>1.000000</td>\n",
       "      <td>0.934123</td>\n",
       "    </tr>\n",
       "    <tr>\n",
       "      <th>evFiyat</th>\n",
       "      <td>0.934123</td>\n",
       "      <td>1.000000</td>\n",
       "    </tr>\n",
       "  </tbody>\n",
       "</table>\n",
       "</div>"
      ],
      "text/plain": [
       "             evMetreKare   evFiyat\n",
       "evMetreKare     1.000000  0.934123\n",
       "evFiyat         0.934123  1.000000"
      ]
     },
     "execution_count": 60,
     "metadata": {},
     "output_type": "execute_result"
    }
   ],
   "source": [
    "ev[[\"evMetreKare\",\"evFiyat\"]].dropna().corr()"
   ]
  },
  {
   "cell_type": "markdown",
   "metadata": {},
   "source": [
    "Yukarıdaki kodda görüldüğü üzere ev tablosuna tertemiz bir fiyat bilgisi ekledik. Ardından datadaki tüm eksik verileri silmek yerine sadece analiz için seçilen kolonlardaki eksik verileri sildik. Böylece daha az veri kaybı yaratarak iki kolon arasındaki korelasyonu bulmuş oluyoruz."
   ]
  },
  {
   "cell_type": "markdown",
   "metadata": {},
   "source": [
    "----------------------------------------------------------------------------------------------------------------------------------------------------------------------------"
   ]
  },
  {
   "cell_type": "markdown",
   "metadata": {},
   "source": [
    "Eksik Verilerin Doldurulması"
   ]
  },
  {
   "cell_type": "markdown",
   "metadata": {},
   "source": [
    "Alt, Üst veya Sabit Değer ile Doldurma: Kolonda eksik verinin bulunduğu alanın altında ya da üstünde yer alan değeri ile doldurma işlemi yapılabilir. Sabit değer ise tamamen datanın nasıl yorumlandığına bağlı olarak eksik değerlere sizin belirleyeceğiniz bir sayı atanır."
   ]
  },
  {
   "cell_type": "code",
   "execution_count": 61,
   "metadata": {},
   "outputs": [
    {
     "name": "stderr",
     "output_type": "stream",
     "text": [
      "C:\\Users\\AGSTAJER\\AppData\\Local\\Temp\\ipykernel_8616\\1902087261.py:2: FutureWarning: Series.fillna with 'method' is deprecated and will raise in a future version. Use obj.ffill() or obj.bfill() instead.\n",
      "  ev.odaSayisi.fillna(method=\"ffill\")\n"
     ]
    },
    {
     "data": {
      "text/plain": [
       "0    3.0\n",
       "1    5.0\n",
       "2    6.0\n",
       "3    4.0\n",
       "4    2.0\n",
       "5    3.0\n",
       "6    3.0\n",
       "7    6.0\n",
       "8    6.0\n",
       "Name: odaSayisi, dtype: float64"
      ]
     },
     "execution_count": 61,
     "metadata": {},
     "output_type": "execute_result"
    }
   ],
   "source": [
    "# üst değer ile doldurma\n",
    "ev.odaSayisi.fillna(method=\"ffill\")"
   ]
  },
  {
   "cell_type": "markdown",
   "metadata": {},
   "source": [
    "5  -  3.0\n",
    "\n",
    "6  -  3.0 üst değer\n",
    "\n",
    "7  -  6.0\n",
    "\n",
    "8  -  6.0 üst değer"
   ]
  },
  {
   "cell_type": "code",
   "execution_count": 62,
   "metadata": {},
   "outputs": [
    {
     "name": "stderr",
     "output_type": "stream",
     "text": [
      "C:\\Users\\AGSTAJER\\AppData\\Local\\Temp\\ipykernel_8616\\818069985.py:2: FutureWarning: Series.fillna with 'method' is deprecated and will raise in a future version. Use obj.ffill() or obj.bfill() instead.\n",
      "  ev.odaSayisi.fillna(method=\"bfill\")\n"
     ]
    },
    {
     "data": {
      "text/plain": [
       "0    3.0\n",
       "1    5.0\n",
       "2    6.0\n",
       "3    4.0\n",
       "4    2.0\n",
       "5    3.0\n",
       "6    6.0\n",
       "7    6.0\n",
       "8    NaN\n",
       "Name: odaSayisi, dtype: float64"
      ]
     },
     "execution_count": 62,
     "metadata": {},
     "output_type": "execute_result"
    }
   ],
   "source": [
    "# Alt değer ile doldurma\n",
    "ev.odaSayisi.fillna(method=\"bfill\")"
   ]
  },
  {
   "cell_type": "markdown",
   "metadata": {},
   "source": [
    "6  -  6.0 alt değer\n",
    "\n",
    "7  - 6.0\n",
    "\n",
    "8  - NaN alt değer yok"
   ]
  },
  {
   "cell_type": "code",
   "execution_count": 63,
   "metadata": {},
   "outputs": [
    {
     "data": {
      "text/plain": [
       "0    3.0\n",
       "1    5.0\n",
       "2    6.0\n",
       "3    4.0\n",
       "4    2.0\n",
       "5    3.0\n",
       "6     15\n",
       "7    6.0\n",
       "8     15\n",
       "Name: odaSayisi, dtype: object"
      ]
     },
     "execution_count": 63,
     "metadata": {},
     "output_type": "execute_result"
    }
   ],
   "source": [
    "# Sabit değer atama\n",
    "ev.odaSayisi.fillna(value= \"15\")"
   ]
  },
  {
   "cell_type": "markdown",
   "metadata": {},
   "source": [
    "Ortalama, Medyan, Tepe Değer(Mode): Değişkenin genel gidişatına bakarak bu yöntemlerden birisi kullanarak eksik veri doldurulabilir. Çoğunlukla veri bilimi alanında bu yöntemler tercih edilmektedir. Tek dezavantajı ise değişkenin varyans değerini düşürdüğü söylenebilir."
   ]
  },
  {
   "cell_type": "markdown",
   "metadata": {},
   "source": [
    "Değişkenin varyansı, verilerin bir değişken etrafında ne kadar dağıldığını ölçen bir istatistiksel ölçüdür. Varyans, veri noktalarının değişkenin merkez etrafında nasıl dağıldığını ve ne kadar değişkenlik içerdiğini gösterir. Daha düşük bir varyans, verilerin değişkenlik açısından daha homojen veya yoğun olduğunu gösterirken, daha yüksek bir varyans, verilerin değişkenlik açısından daha dağınık olduğunu gösterir."
   ]
  },
  {
   "cell_type": "code",
   "execution_count": 68,
   "metadata": {},
   "outputs": [
    {
     "data": {
      "text/plain": [
       "evID                9.888889\n",
       "odaSayisi           4.142857\n",
       "evMetreKare       136.000000\n",
       "evFiyat        115555.555556\n",
       "dtype: float64"
      ]
     },
     "execution_count": 68,
     "metadata": {},
     "output_type": "execute_result"
    }
   ],
   "source": [
    "# Ortalama\n",
    "ev2 = ev.drop(columns=\"semt\")\n",
    "ev2.mean()"
   ]
  },
  {
   "cell_type": "code",
   "execution_count": 69,
   "metadata": {},
   "outputs": [
    {
     "name": "stdout",
     "output_type": "stream",
     "text": [
      "0    130.0\n",
      "1    140.0\n",
      "2    136.0\n",
      "3    150.0\n",
      "4    136.0\n",
      "5    125.0\n",
      "6    136.0\n",
      "7    135.0\n",
      "8    136.0\n",
      "Name: evMetreKare, dtype: float64\n"
     ]
    }
   ],
   "source": [
    "ev_mean = ev.fillna(ev2.mean())\n",
    "print(ev_mean.evMetreKare)"
   ]
  },
  {
   "cell_type": "markdown",
   "metadata": {},
   "source": [
    "4-    136.0 ortalama değer\n",
    "\n",
    "5-    125.0\n",
    "\n",
    "6-    136.0 ortalama değer\n",
    "\n",
    "7-    135.0\n",
    "\n",
    "8-    136.0 ortalama değer"
   ]
  },
  {
   "cell_type": "code",
   "execution_count": 70,
   "metadata": {},
   "outputs": [
    {
     "name": "stdout",
     "output_type": "stream",
     "text": [
      "0    3.0\n",
      "1    5.0\n",
      "2    6.0\n",
      "3    4.0\n",
      "4    2.0\n",
      "5    3.0\n",
      "6    4.0\n",
      "7    6.0\n",
      "8    4.0\n",
      "Name: odaSayisi, dtype: float64\n"
     ]
    }
   ],
   "source": [
    "# Medyan\n",
    "print(ev.odaSayisi.fillna(ev1.odaSayisi.median()))"
   ]
  },
  {
   "cell_type": "markdown",
   "metadata": {},
   "source": [
    "6-    4.0 medyan\n",
    "\n",
    "7-    6.0\n",
    "\n",
    "8-    4.0 medyan"
   ]
  },
  {
   "cell_type": "code",
   "execution_count": 71,
   "metadata": {},
   "outputs": [
    {
     "name": "stdout",
     "output_type": "stream",
     "text": [
      "0    3.0\n",
      "1    5.0\n",
      "2    6.0\n",
      "3    4.0\n",
      "4    2.0\n",
      "5    3.0\n",
      "6    6.0\n",
      "7    6.0\n",
      "8    6.0\n",
      "Name: odaSayisi, dtype: float64\n"
     ]
    }
   ],
   "source": [
    "print(ev.odaSayisi.fillna(ev2.odaSayisi.mode()[1]))"
   ]
  },
  {
   "cell_type": "markdown",
   "metadata": {},
   "source": [
    "6-    6.0 mode\n",
    "\n",
    "7-    6.0\n",
    "\n",
    "8-    6.0 mode"
   ]
  },
  {
   "cell_type": "markdown",
   "metadata": {},
   "source": [
    "Lineer (Doğrusal) Regresyon: Aslında bu yöntem tamamen regresyon modelinin eksik verilere uygulanmış halidir. Eksik değerlerin yer aldığı kolon bağımlı değişken olarak ve diğer kolonlar bağımsız değişken olarak tanımlanarak kayıp veriler tahmin edilmeye çalışılır. Bu yöntemin dezavantajlarından birisi, eksik verilerin regresyon ile diğer değişkenlere göre doldurulacak olmasından dolayı asıl tahmin edilecek değişken üzerinde veri setinde aşırı öğrenme (overfitting) söz konusu olabilir."
   ]
  },
  {
   "cell_type": "code",
   "execution_count": 72,
   "metadata": {},
   "outputs": [
    {
     "name": "stdout",
     "output_type": "stream",
     "text": [
      "0    130.0\n",
      "1    140.0\n",
      "2    145.0\n",
      "3    150.0\n",
      "4    137.5\n",
      "5    125.0\n",
      "6    130.0\n",
      "7    135.0\n",
      "8    135.0\n",
      "Name: evMetreKare, dtype: float64\n"
     ]
    }
   ],
   "source": [
    "# Lineer regresyon yöntemi\n",
    "print(ev.evMetreKare.interpolate(method=\"linear\"))"
   ]
  },
  {
   "cell_type": "markdown",
   "metadata": {},
   "source": [
    "2-    145.0 lineer\n",
    "\n",
    "3-    150.0\n",
    "\n",
    "4-    137.5 lineer\n",
    "\n",
    "5-    125.0\n",
    "\n",
    "6-    130.0 lineer\n",
    "\n",
    "7-    135.0\n",
    "\n",
    "8-    135.0 lineer"
   ]
  },
  {
   "cell_type": "markdown",
   "metadata": {},
   "source": [
    "Eksik verileri doldurmak için kullanılan interpolate fonksiyonunun method parametresi, eksik verilerin nasıl doldurulacağını belirlemek için kullanılır. \"linear\" dışında birçok farklı yöntemi destekler. İşte bazı yaygın kullanılan yöntemler:\n",
    "\n",
    "\n",
    "nearest: Eksik veriyi en yakın komşu veri noktasının değeri ile doldurur.\n",
    "\n",
    "\n",
    "zero: Eksik verileri sıfır değeri ile doldurur.\n",
    "\n",
    "\n",
    "slinear (spline linear): Eksik verileri doğrusal olmayan bir spline (eğri) kullanarak doldurur.\n",
    "\n",
    "\n",
    "quadratic: Eksik verileri ikinci dereceden bir polinom kullanarak doldurur.\n",
    "\n",
    "\n",
    "cubic: Eksik verileri üçüncü dereceden bir polinom kullanarak doldurur.\n",
    "\n",
    "\n",
    "polynomial: Kullanıcı belirlediği bir polinom kullanarak eksik verileri doldurur.\n",
    "\n",
    "\n",
    "spline: Doğrusal olmayan bir spline kullanarak eksik verileri doldurur.\n",
    "\n",
    "\n",
    "piecewise_polynomial: Parçalı polinomlar kullanarak eksik verileri doldurur.\n",
    "\n",
    "\n",
    "from_derivatives: Türevlerden yararlanarak eksik verileri doldurur.\n",
    "\n",
    "\n",
    "pchip (Piecewise Cubic Hermite Interpolating Polynomial): Parçalı bir kübik Hermite interpolasyonu kullanarak eksik verileri doldurur.\n",
    "\n",
    "\n",
    "akima: Akima spline interpolasyonunu kullanarak eksik verileri doldurur"
   ]
  },
  {
   "cell_type": "markdown",
   "metadata": {},
   "source": [
    "-------------------------------------------------------------------------"
   ]
  },
  {
   "cell_type": "markdown",
   "metadata": {},
   "source": [
    "Kategorik Verilerde Doldurma: Genel olarak üç yöntemden söz edilebilir.\n",
    "\n",
    "Tepe değer(mode) kullanılarak en fazla frekansa sahip olan değer ile eksik veriler doldurulabilir.\n",
    "Eksik/kayıp veriler etiketlenerek model ya da analiz için değerlendirilebilir.\n",
    "Lojistik regresyon ya da ANOVA gibi yöntemler ile eksik değerler tahmin edilebilir."
   ]
  },
  {
   "cell_type": "markdown",
   "metadata": {},
   "source": [
    "ANOVA, \"Analysis of Variance\" (Varyans Analizi) kısaltmasıdır ve istatistiksel bir analiz yöntemidir. ANOVA, gruplar arasındaki istatistiksel farkları belirlemek için kullanılır ve genellikle gruplar arasındaki ortalamaların eşit olup olmadığını test etmek için kullanılır. ANOVA, farklı gruplar arasındaki varyansın kaynaklarını incelemek ve gruplar arasındaki farkların istatistiksel olarak anlamlı olup olmadığını değerlendirmek amacıyla kullanılır."
   ]
  },
  {
   "cell_type": "markdown",
   "metadata": {},
   "source": [
    "ANOVA, genellikle kategorik bir bağımsız değişken (gruplar) ve bir sürekli bağımlı değişken arasındaki ilişkiyi incelemek için kullanılır. Örnekler şu olabilir:\n",
    "\n",
    "Farklı ilaçların tedaviye etkisi üzerine çalışmalar: İlaç türü (kategorik değişken) ve tedavi sonuçları (sürekli değişken) arasındaki farkları incelemek için ANOVA kullanılabilir."
   ]
  }
 ],
 "metadata": {
  "kernelspec": {
   "display_name": "Python 3",
   "language": "python",
   "name": "python3"
  },
  "language_info": {
   "codemirror_mode": {
    "name": "ipython",
    "version": 3
   },
   "file_extension": ".py",
   "mimetype": "text/x-python",
   "name": "python",
   "nbconvert_exporter": "python",
   "pygments_lexer": "ipython3",
   "version": "3.11.5"
  }
 },
 "nbformat": 4,
 "nbformat_minor": 2
}
